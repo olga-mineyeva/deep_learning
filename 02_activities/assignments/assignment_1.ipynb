{
  "cells": [
    {
      "cell_type": "markdown",
      "id": "ba8ab56f",
      "metadata": {
        "id": "ba8ab56f"
      },
      "source": [
        "# Advanced Image Classification with ImageNet"
      ]
    },
    {
      "cell_type": "markdown",
      "id": "7c630244b8fe2847",
      "metadata": {
        "collapsed": false,
        "id": "7c630244b8fe2847"
      },
      "source": [
        "In this assignment, you will be asked to develop a convolutional neural network (CNN) to classify images from the CIFAR-100 dataset. At each step, you'll be guided through the process of developing a model architecture to solve a problem. Your goal is to create a CNN that attains at least 55% accuracy on the validation set.\n",
        "\n",
        "### The CIFAR-100 Dataset\n",
        "\n",
        "The [CIFAR-100 dataset](https://www.cs.toronto.edu/~kriz/cifar.html) consists of 60000 32x32 colour images in 100 classes, with 600 images per class. There are 50000 training images and 10000 test images. The dataset is divided into five training batches and one test batch, each with 10000 images. The test batch contains exactly 1000 randomly-selected images from each class. The training batches contain the remaining images in random order, but some training batches may contain more images from one class than another. Between them, the training batches contain exactly 500 images from each class.\n",
        "\n",
        "### Tools\n",
        "\n",
        "You will use Keras with TensorFlow to develop your CNN. For this assignment, it's strongly recommended that you use a GPU to accelerate your training, or else you might find it difficult to train your network in a reasonable amount of time. If you have a computer with a GPU that you wish to use, you can follow the [TensorFlow instructions](https://www.tensorflow.org/install/) for installing TensorFlow with GPU support. Otherwise, you can use [Google Colab](https://colab.research.google.com/) to complete this assignment. Colab provides free access to GPU-enabled machines. If you run into any issues, please contact us as soon as possible so that we can help you resolve them."
      ]
    },
    {
      "cell_type": "markdown",
      "id": "fab62988ece1528d",
      "metadata": {
        "collapsed": false,
        "id": "fab62988ece1528d"
      },
      "source": [
        "## Task 1: Data Exploration and Preprocessing (Complete or Incomplete)\n",
        "### 1a: Load and Explore the Dataset\n",
        "- Use the code below to download the dataset.\n",
        "- Explore the dataset: examine the shape of the training and test sets, the dimensions of the images, and the number of classes. Show a few examples from the training set."
      ]
    },
    {
      "cell_type": "code",
      "execution_count": 5,
      "id": "8820fcdc5ae52ae2",
      "metadata": {
        "ExecuteTime": {
          "start_time": "2024-01-26T17:04:08.432758Z"
        },
        "is_executing": true,
        "id": "8820fcdc5ae52ae2"
      },
      "outputs": [],
      "source": [
        "from keras.datasets import cifar100\n",
        "\n",
        "# Load the CIFAR-100 dataset\n",
        "(x_train, y_train), (x_test, y_test) = cifar100.load_data(label_mode='fine')"
      ]
    },
    {
      "cell_type": "code",
      "source": [
        "print(f'X_train shape: {x_train.shape}')\n",
        "print(f'y_train shape: {y_train.shape}')\n",
        "print(f'X_test shape: {x_test.shape}')\n",
        "print(f'y_test shape: {y_test.shape}')\n",
        "print(f'Image dimentions: {x_train[0].shape}')\n",
        "import numpy as np\n",
        "print(f'Number of classes in the train set: {len(np.unique(y_train))}')\n",
        "print(f'Number of classes in the test set: {len(np.unique(y_test))}')"
      ],
      "metadata": {
        "colab": {
          "base_uri": "https://localhost:8080/"
        },
        "id": "KJc-_iAow1nR",
        "outputId": "a997965d-e186-40cb-92f0-a0a48aaccbee"
      },
      "id": "KJc-_iAow1nR",
      "execution_count": 6,
      "outputs": [
        {
          "output_type": "stream",
          "name": "stdout",
          "text": [
            "X_train shape: (50000, 32, 32, 3)\n",
            "y_train shape: (50000, 1)\n",
            "X_test shape: (10000, 32, 32, 3)\n",
            "y_test shape: (10000, 1)\n",
            "Image dimentions: (32, 32, 3)\n",
            "Number of classes in the train set: 100\n",
            "Number of classes in the test set: 100\n"
          ]
        }
      ]
    },
    {
      "cell_type": "markdown",
      "id": "ad49291da3a819ea",
      "metadata": {
        "collapsed": false,
        "id": "ad49291da3a819ea"
      },
      "source": [
        "### 1b: Data Preprocessing (4 Marks)\n",
        "- With the data downloaded, it's time to preprocess it. Start by normalizing the images so that they all have pixel values in the range [0, 1].\n",
        "- Next, convert the labels to one-hot encoded vectors.\n",
        "- Finally, split the training set into training and validation sets. Use 80% of the training set for training and the remaining 20% for validation."
      ]
    },
    {
      "cell_type": "code",
      "execution_count": 7,
      "id": "b18c10172fa72d0c",
      "metadata": {
        "colab": {
          "base_uri": "https://localhost:8080/"
        },
        "id": "b18c10172fa72d0c",
        "outputId": "0ba0b6c5-3918-4aa8-9fae-84e105e34c0f"
      },
      "outputs": [
        {
          "output_type": "stream",
          "name": "stdout",
          "text": [
            "x_train max pixel value: 1.0\n",
            "x_test max pixel value: 1.0\n"
          ]
        }
      ],
      "source": [
        "# Your code here\n",
        "# Normalization\n",
        "\n",
        "x_train_norm = x_train / x_train.max()\n",
        "x_test_norm = x_test / x_test.max()\n",
        "\n",
        "print(\"x_train max pixel value:\", x_train_norm.max())\n",
        "print(\"x_test max pixel value:\", x_test_norm.max())\n",
        "\n"
      ]
    },
    {
      "cell_type": "code",
      "source": [
        "# One-hot encoding\n",
        "y_train = y_train.squeeze()\n",
        "y_test = y_test.squeeze()\n",
        "\n",
        "num_classes = len(np.unique(y_train))\n",
        "y_train_one_hot = np.eye(num_classes)[y_train]\n",
        "y_test_one_hot = np.eye(num_classes)[y_test]\n",
        "\n",
        "print(\"Sample y_train_one_hot:\", y_train_one_hot[0])\n",
        "#print(\"Shape of y_train_one_hot:\", y_train_one_hot.shape)"
      ],
      "metadata": {
        "colab": {
          "base_uri": "https://localhost:8080/"
        },
        "id": "__82QOUD5Sgp",
        "outputId": "afcc5ed3-0487-42b4-d22f-2de798911f0b"
      },
      "id": "__82QOUD5Sgp",
      "execution_count": 8,
      "outputs": [
        {
          "output_type": "stream",
          "name": "stdout",
          "text": [
            "Sample y_train_one_hot: [0. 0. 0. 0. 0. 0. 0. 0. 0. 0. 0. 0. 0. 0. 0. 0. 0. 0. 0. 1. 0. 0. 0. 0.\n",
            " 0. 0. 0. 0. 0. 0. 0. 0. 0. 0. 0. 0. 0. 0. 0. 0. 0. 0. 0. 0. 0. 0. 0. 0.\n",
            " 0. 0. 0. 0. 0. 0. 0. 0. 0. 0. 0. 0. 0. 0. 0. 0. 0. 0. 0. 0. 0. 0. 0. 0.\n",
            " 0. 0. 0. 0. 0. 0. 0. 0. 0. 0. 0. 0. 0. 0. 0. 0. 0. 0. 0. 0. 0. 0. 0. 0.\n",
            " 0. 0. 0. 0.]\n"
          ]
        }
      ]
    },
    {
      "cell_type": "code",
      "source": [
        "from sklearn.model_selection import train_test_split\n",
        "\n",
        "x_train_split, x_val, y_train_split, y_val = train_test_split(\n",
        "    x_train_norm, y_train_one_hot, test_size=0.2, random_state=42)\n",
        "\n",
        "print(\"x_train_split shape:\", x_train_split.shape)\n",
        "print(\"x_val shape:\", x_val.shape)\n",
        "print(\"y_train_split shape:\", y_train_split.shape)\n",
        "print(\"y_val shape:\", y_val.shape)"
      ],
      "metadata": {
        "colab": {
          "base_uri": "https://localhost:8080/"
        },
        "id": "B-sRXRCJ8rTT",
        "outputId": "c642a527-ccb8-441c-dbff-7388206bd370"
      },
      "id": "B-sRXRCJ8rTT",
      "execution_count": 9,
      "outputs": [
        {
          "output_type": "stream",
          "name": "stdout",
          "text": [
            "x_train_split shape: (40000, 32, 32, 3)\n",
            "x_val shape: (10000, 32, 32, 3)\n",
            "y_train_split shape: (40000, 100)\n",
            "y_val shape: (10000, 100)\n"
          ]
        }
      ]
    },
    {
      "cell_type": "markdown",
      "id": "5993757f08c89db7",
      "metadata": {
        "collapsed": false,
        "id": "5993757f08c89db7"
      },
      "source": [
        "## Task 2: Model Development (Complete or Incomplete)\n",
        "### Task 2a: Create a Baseline CNN Model\n",
        "- Design a CNN architecture. Your architecture should use convolutional layers, max pooling layers, and dense layers. You can use any number of layers, and you can experiment with different numbers of filters, filter sizes, strides, padding, etc. The design doesn't need to be perfect, but it should be unique to you.\n",
        "- Print out the model summary."
      ]
    },
    {
      "cell_type": "code",
      "execution_count": 51,
      "id": "c9edafdaf887b8d5",
      "metadata": {
        "colab": {
          "base_uri": "https://localhost:8080/",
          "height": 385
        },
        "id": "c9edafdaf887b8d5",
        "outputId": "61e69320-c0ad-43e8-9b52-345b0731b848"
      },
      "outputs": [
        {
          "output_type": "display_data",
          "data": {
            "text/plain": [
              "\u001b[1mModel: \"sequential_16\"\u001b[0m\n"
            ],
            "text/html": [
              "<pre style=\"white-space:pre;overflow-x:auto;line-height:normal;font-family:Menlo,'DejaVu Sans Mono',consolas,'Courier New',monospace\"><span style=\"font-weight: bold\">Model: \"sequential_16\"</span>\n",
              "</pre>\n"
            ]
          },
          "metadata": {}
        },
        {
          "output_type": "display_data",
          "data": {
            "text/plain": [
              "┏━━━━━━━━━━━━━━━━━━━━━━━━━━━━━━━━━━━━━━┳━━━━━━━━━━━━━━━━━━━━━━━━━━━━━┳━━━━━━━━━━━━━━━━━┓\n",
              "┃\u001b[1m \u001b[0m\u001b[1mLayer (type)                        \u001b[0m\u001b[1m \u001b[0m┃\u001b[1m \u001b[0m\u001b[1mOutput Shape               \u001b[0m\u001b[1m \u001b[0m┃\u001b[1m \u001b[0m\u001b[1m        Param #\u001b[0m\u001b[1m \u001b[0m┃\n",
              "┡━━━━━━━━━━━━━━━━━━━━━━━━━━━━━━━━━━━━━━╇━━━━━━━━━━━━━━━━━━━━━━━━━━━━━╇━━━━━━━━━━━━━━━━━┩\n",
              "│ conv2d_48 (\u001b[38;5;33mConv2D\u001b[0m)                   │ (\u001b[38;5;45mNone\u001b[0m, \u001b[38;5;34m32\u001b[0m, \u001b[38;5;34m32\u001b[0m, \u001b[38;5;34m32\u001b[0m)          │             \u001b[38;5;34m896\u001b[0m │\n",
              "├──────────────────────────────────────┼─────────────────────────────┼─────────────────┤\n",
              "│ conv2d_49 (\u001b[38;5;33mConv2D\u001b[0m)                   │ (\u001b[38;5;45mNone\u001b[0m, \u001b[38;5;34m16\u001b[0m, \u001b[38;5;34m16\u001b[0m, \u001b[38;5;34m64\u001b[0m)          │          \u001b[38;5;34m18,496\u001b[0m │\n",
              "├──────────────────────────────────────┼─────────────────────────────┼─────────────────┤\n",
              "│ max_pooling2d_32 (\u001b[38;5;33mMaxPooling2D\u001b[0m)      │ (\u001b[38;5;45mNone\u001b[0m, \u001b[38;5;34m8\u001b[0m, \u001b[38;5;34m8\u001b[0m, \u001b[38;5;34m64\u001b[0m)            │               \u001b[38;5;34m0\u001b[0m │\n",
              "├──────────────────────────────────────┼─────────────────────────────┼─────────────────┤\n",
              "│ conv2d_50 (\u001b[38;5;33mConv2D\u001b[0m)                   │ (\u001b[38;5;45mNone\u001b[0m, \u001b[38;5;34m4\u001b[0m, \u001b[38;5;34m4\u001b[0m, \u001b[38;5;34m128\u001b[0m)           │          \u001b[38;5;34m73,856\u001b[0m │\n",
              "├──────────────────────────────────────┼─────────────────────────────┼─────────────────┤\n",
              "│ max_pooling2d_33 (\u001b[38;5;33mMaxPooling2D\u001b[0m)      │ (\u001b[38;5;45mNone\u001b[0m, \u001b[38;5;34m2\u001b[0m, \u001b[38;5;34m2\u001b[0m, \u001b[38;5;34m128\u001b[0m)           │               \u001b[38;5;34m0\u001b[0m │\n",
              "├──────────────────────────────────────┼─────────────────────────────┼─────────────────┤\n",
              "│ flatten_16 (\u001b[38;5;33mFlatten\u001b[0m)                 │ (\u001b[38;5;45mNone\u001b[0m, \u001b[38;5;34m512\u001b[0m)                 │               \u001b[38;5;34m0\u001b[0m │\n",
              "├──────────────────────────────────────┼─────────────────────────────┼─────────────────┤\n",
              "│ dense_32 (\u001b[38;5;33mDense\u001b[0m)                     │ (\u001b[38;5;45mNone\u001b[0m, \u001b[38;5;34m256\u001b[0m)                 │         \u001b[38;5;34m131,328\u001b[0m │\n",
              "├──────────────────────────────────────┼─────────────────────────────┼─────────────────┤\n",
              "│ dense_33 (\u001b[38;5;33mDense\u001b[0m)                     │ (\u001b[38;5;45mNone\u001b[0m, \u001b[38;5;34m100\u001b[0m)                 │          \u001b[38;5;34m25,700\u001b[0m │\n",
              "└──────────────────────────────────────┴─────────────────────────────┴─────────────────┘\n"
            ],
            "text/html": [
              "<pre style=\"white-space:pre;overflow-x:auto;line-height:normal;font-family:Menlo,'DejaVu Sans Mono',consolas,'Courier New',monospace\">┏━━━━━━━━━━━━━━━━━━━━━━━━━━━━━━━━━━━━━━┳━━━━━━━━━━━━━━━━━━━━━━━━━━━━━┳━━━━━━━━━━━━━━━━━┓\n",
              "┃<span style=\"font-weight: bold\"> Layer (type)                         </span>┃<span style=\"font-weight: bold\"> Output Shape                </span>┃<span style=\"font-weight: bold\">         Param # </span>┃\n",
              "┡━━━━━━━━━━━━━━━━━━━━━━━━━━━━━━━━━━━━━━╇━━━━━━━━━━━━━━━━━━━━━━━━━━━━━╇━━━━━━━━━━━━━━━━━┩\n",
              "│ conv2d_48 (<span style=\"color: #0087ff; text-decoration-color: #0087ff\">Conv2D</span>)                   │ (<span style=\"color: #00d7ff; text-decoration-color: #00d7ff\">None</span>, <span style=\"color: #00af00; text-decoration-color: #00af00\">32</span>, <span style=\"color: #00af00; text-decoration-color: #00af00\">32</span>, <span style=\"color: #00af00; text-decoration-color: #00af00\">32</span>)          │             <span style=\"color: #00af00; text-decoration-color: #00af00\">896</span> │\n",
              "├──────────────────────────────────────┼─────────────────────────────┼─────────────────┤\n",
              "│ conv2d_49 (<span style=\"color: #0087ff; text-decoration-color: #0087ff\">Conv2D</span>)                   │ (<span style=\"color: #00d7ff; text-decoration-color: #00d7ff\">None</span>, <span style=\"color: #00af00; text-decoration-color: #00af00\">16</span>, <span style=\"color: #00af00; text-decoration-color: #00af00\">16</span>, <span style=\"color: #00af00; text-decoration-color: #00af00\">64</span>)          │          <span style=\"color: #00af00; text-decoration-color: #00af00\">18,496</span> │\n",
              "├──────────────────────────────────────┼─────────────────────────────┼─────────────────┤\n",
              "│ max_pooling2d_32 (<span style=\"color: #0087ff; text-decoration-color: #0087ff\">MaxPooling2D</span>)      │ (<span style=\"color: #00d7ff; text-decoration-color: #00d7ff\">None</span>, <span style=\"color: #00af00; text-decoration-color: #00af00\">8</span>, <span style=\"color: #00af00; text-decoration-color: #00af00\">8</span>, <span style=\"color: #00af00; text-decoration-color: #00af00\">64</span>)            │               <span style=\"color: #00af00; text-decoration-color: #00af00\">0</span> │\n",
              "├──────────────────────────────────────┼─────────────────────────────┼─────────────────┤\n",
              "│ conv2d_50 (<span style=\"color: #0087ff; text-decoration-color: #0087ff\">Conv2D</span>)                   │ (<span style=\"color: #00d7ff; text-decoration-color: #00d7ff\">None</span>, <span style=\"color: #00af00; text-decoration-color: #00af00\">4</span>, <span style=\"color: #00af00; text-decoration-color: #00af00\">4</span>, <span style=\"color: #00af00; text-decoration-color: #00af00\">128</span>)           │          <span style=\"color: #00af00; text-decoration-color: #00af00\">73,856</span> │\n",
              "├──────────────────────────────────────┼─────────────────────────────┼─────────────────┤\n",
              "│ max_pooling2d_33 (<span style=\"color: #0087ff; text-decoration-color: #0087ff\">MaxPooling2D</span>)      │ (<span style=\"color: #00d7ff; text-decoration-color: #00d7ff\">None</span>, <span style=\"color: #00af00; text-decoration-color: #00af00\">2</span>, <span style=\"color: #00af00; text-decoration-color: #00af00\">2</span>, <span style=\"color: #00af00; text-decoration-color: #00af00\">128</span>)           │               <span style=\"color: #00af00; text-decoration-color: #00af00\">0</span> │\n",
              "├──────────────────────────────────────┼─────────────────────────────┼─────────────────┤\n",
              "│ flatten_16 (<span style=\"color: #0087ff; text-decoration-color: #0087ff\">Flatten</span>)                 │ (<span style=\"color: #00d7ff; text-decoration-color: #00d7ff\">None</span>, <span style=\"color: #00af00; text-decoration-color: #00af00\">512</span>)                 │               <span style=\"color: #00af00; text-decoration-color: #00af00\">0</span> │\n",
              "├──────────────────────────────────────┼─────────────────────────────┼─────────────────┤\n",
              "│ dense_32 (<span style=\"color: #0087ff; text-decoration-color: #0087ff\">Dense</span>)                     │ (<span style=\"color: #00d7ff; text-decoration-color: #00d7ff\">None</span>, <span style=\"color: #00af00; text-decoration-color: #00af00\">256</span>)                 │         <span style=\"color: #00af00; text-decoration-color: #00af00\">131,328</span> │\n",
              "├──────────────────────────────────────┼─────────────────────────────┼─────────────────┤\n",
              "│ dense_33 (<span style=\"color: #0087ff; text-decoration-color: #0087ff\">Dense</span>)                     │ (<span style=\"color: #00d7ff; text-decoration-color: #00d7ff\">None</span>, <span style=\"color: #00af00; text-decoration-color: #00af00\">100</span>)                 │          <span style=\"color: #00af00; text-decoration-color: #00af00\">25,700</span> │\n",
              "└──────────────────────────────────────┴─────────────────────────────┴─────────────────┘\n",
              "</pre>\n"
            ]
          },
          "metadata": {}
        },
        {
          "output_type": "display_data",
          "data": {
            "text/plain": [
              "\u001b[1m Total params: \u001b[0m\u001b[38;5;34m250,276\u001b[0m (977.64 KB)\n"
            ],
            "text/html": [
              "<pre style=\"white-space:pre;overflow-x:auto;line-height:normal;font-family:Menlo,'DejaVu Sans Mono',consolas,'Courier New',monospace\"><span style=\"font-weight: bold\"> Total params: </span><span style=\"color: #00af00; text-decoration-color: #00af00\">250,276</span> (977.64 KB)\n",
              "</pre>\n"
            ]
          },
          "metadata": {}
        },
        {
          "output_type": "display_data",
          "data": {
            "text/plain": [
              "\u001b[1m Trainable params: \u001b[0m\u001b[38;5;34m250,276\u001b[0m (977.64 KB)\n"
            ],
            "text/html": [
              "<pre style=\"white-space:pre;overflow-x:auto;line-height:normal;font-family:Menlo,'DejaVu Sans Mono',consolas,'Courier New',monospace\"><span style=\"font-weight: bold\"> Trainable params: </span><span style=\"color: #00af00; text-decoration-color: #00af00\">250,276</span> (977.64 KB)\n",
              "</pre>\n"
            ]
          },
          "metadata": {}
        },
        {
          "output_type": "display_data",
          "data": {
            "text/plain": [
              "\u001b[1m Non-trainable params: \u001b[0m\u001b[38;5;34m0\u001b[0m (0.00 B)\n"
            ],
            "text/html": [
              "<pre style=\"white-space:pre;overflow-x:auto;line-height:normal;font-family:Menlo,'DejaVu Sans Mono',consolas,'Courier New',monospace\"><span style=\"font-weight: bold\"> Non-trainable params: </span><span style=\"color: #00af00; text-decoration-color: #00af00\">0</span> (0.00 B)\n",
              "</pre>\n"
            ]
          },
          "metadata": {}
        }
      ],
      "source": [
        "from keras.models import Sequential\n",
        "from keras.layers import InputLayer, Conv2D, MaxPooling2D, Flatten, Dense\n",
        "\n",
        "def model5(input_shape, num_classes):\n",
        "    model = Sequential()\n",
        "    model.add(InputLayer(shape=input_shape))\n",
        "\n",
        "    model.add(Conv2D(32, (3, 3), activation='relu', padding='same')) #strides=(2, 2)\n",
        "    model.add(Conv2D(64, (3, 3), activation='relu', padding='same', strides=(2, 2)))\n",
        "    model.add(MaxPooling2D((2, 2), strides=(2, 2)))\n",
        "    model.add(Conv2D(128, (3, 3), activation='relu', padding='same', strides=(2, 2)))\n",
        "    model.add(MaxPooling2D((2, 2), strides=(2, 2)))\n",
        "    model.add(Flatten())\n",
        "    model.add(Dense(256, activation='relu'))\n",
        "    #model.add(BatchNormalization())\n",
        "    #model.add(Dropout(0.3))\n",
        "    model.add(Dense(num_classes, activation='softmax'))\n",
        "\n",
        "    return model\n",
        "\n",
        "input_shape = (32, 32, 3)\n",
        "num_classes = 100\n",
        "\n",
        "model5 = model5(input_shape, num_classes)\n",
        "model5.summary()"
      ]
    },
    {
      "cell_type": "markdown",
      "id": "546324c007c73db5",
      "metadata": {
        "collapsed": false,
        "id": "546324c007c73db5"
      },
      "source": [
        "### Task 2b: Compile the model\n",
        "\n",
        "- Select an appropriate loss function and optimizer for your model. These can be ones we have looked at already, or they can be different.\n",
        "- Briefly explain your choices (one or two sentences each).\n",
        "- <b>Loss function:</b> ______\n",
        "- <b>Optimizer:</b> ______"
      ]
    },
    {
      "cell_type": "code",
      "execution_count": 52,
      "id": "ab39f4ba69d684e9",
      "metadata": {
        "id": "ab39f4ba69d684e9"
      },
      "outputs": [],
      "source": [
        "from keras import optimizers\n",
        "from tensorflow.keras.optimizers import Adam\n",
        "\n",
        "model5.compile(optimizer=Adam(learning_rate=0.001), loss='categorical_crossentropy', metrics=['accuracy'])"
      ]
    },
    {
      "cell_type": "markdown",
      "id": "653fba928413b9f6",
      "metadata": {
        "collapsed": false,
        "id": "653fba928413b9f6"
      },
      "source": [
        "## Task 3: Model Training and Evaluation (Complete or Incomplete)\n",
        "### Task 3a: Train the Model\n",
        "\n",
        "- Train your model for an appropriate number of epochs. Explain your choice of the number of epochs used - you can change this number before submitting your assignment.\n",
        "- Use a batch size of 32.\n",
        "- Use the validation set for validation."
      ]
    },
    {
      "cell_type": "code",
      "source": [
        "# from keras import optimizers\n",
        "# from tensorflow.keras.optimizers import Adam\n",
        "# model5.compile(optimizer=Adam(learning_rate=0.001), loss='categorical_crossentropy', metrics=['accuracy'])\n",
        "history = model5.fit(\n",
        "    x_train_split, y_train_split,\n",
        "    validation_data=(x_val, y_val),\n",
        "    epochs=10,\n",
        "    batch_size=32)\n",
        "\n",
        "# I chose 10 epochs initially as a starting number close to regularily used 15.\n",
        "# During the training in multiple models, I observed validation accuracy decreasing and val_loss increasing from epoch 4-7."
      ],
      "metadata": {
        "colab": {
          "base_uri": "https://localhost:8080/"
        },
        "id": "liFxQC_b5f9x",
        "outputId": "70e18307-b391-40d3-b238-7456176114de"
      },
      "id": "liFxQC_b5f9x",
      "execution_count": 53,
      "outputs": [
        {
          "output_type": "stream",
          "name": "stdout",
          "text": [
            "Epoch 1/10\n",
            "\u001b[1m1250/1250\u001b[0m \u001b[32m━━━━━━━━━━━━━━━━━━━━\u001b[0m\u001b[37m\u001b[0m \u001b[1m67s\u001b[0m 52ms/step - accuracy: 0.0635 - loss: 4.1751 - val_accuracy: 0.1868 - val_loss: 3.3659\n",
            "Epoch 2/10\n",
            "\u001b[1m1250/1250\u001b[0m \u001b[32m━━━━━━━━━━━━━━━━━━━━\u001b[0m\u001b[37m\u001b[0m \u001b[1m83s\u001b[0m 52ms/step - accuracy: 0.2219 - loss: 3.1830 - val_accuracy: 0.2641 - val_loss: 2.9588\n",
            "Epoch 3/10\n",
            "\u001b[1m1250/1250\u001b[0m \u001b[32m━━━━━━━━━━━━━━━━━━━━\u001b[0m\u001b[37m\u001b[0m \u001b[1m83s\u001b[0m 53ms/step - accuracy: 0.2982 - loss: 2.7811 - val_accuracy: 0.3069 - val_loss: 2.8024\n",
            "Epoch 4/10\n",
            "\u001b[1m1250/1250\u001b[0m \u001b[32m━━━━━━━━━━━━━━━━━━━━\u001b[0m\u001b[37m\u001b[0m \u001b[1m80s\u001b[0m 52ms/step - accuracy: 0.3511 - loss: 2.4946 - val_accuracy: 0.3292 - val_loss: 2.6782\n",
            "Epoch 5/10\n",
            "\u001b[1m1250/1250\u001b[0m \u001b[32m━━━━━━━━━━━━━━━━━━━━\u001b[0m\u001b[37m\u001b[0m \u001b[1m83s\u001b[0m 53ms/step - accuracy: 0.4037 - loss: 2.2851 - val_accuracy: 0.3415 - val_loss: 2.6033\n",
            "Epoch 6/10\n",
            "\u001b[1m1250/1250\u001b[0m \u001b[32m━━━━━━━━━━━━━━━━━━━━\u001b[0m\u001b[37m\u001b[0m \u001b[1m64s\u001b[0m 51ms/step - accuracy: 0.4466 - loss: 2.0882 - val_accuracy: 0.3492 - val_loss: 2.5946\n",
            "Epoch 7/10\n",
            "\u001b[1m1250/1250\u001b[0m \u001b[32m━━━━━━━━━━━━━━━━━━━━\u001b[0m\u001b[37m\u001b[0m \u001b[1m67s\u001b[0m 54ms/step - accuracy: 0.4836 - loss: 1.9214 - val_accuracy: 0.3379 - val_loss: 2.6808\n",
            "Epoch 8/10\n",
            "\u001b[1m1250/1250\u001b[0m \u001b[32m━━━━━━━━━━━━━━━━━━━━\u001b[0m\u001b[37m\u001b[0m \u001b[1m80s\u001b[0m 53ms/step - accuracy: 0.5122 - loss: 1.7851 - val_accuracy: 0.3460 - val_loss: 2.7057\n",
            "Epoch 9/10\n",
            "\u001b[1m1250/1250\u001b[0m \u001b[32m━━━━━━━━━━━━━━━━━━━━\u001b[0m\u001b[37m\u001b[0m \u001b[1m65s\u001b[0m 52ms/step - accuracy: 0.5397 - loss: 1.6488 - val_accuracy: 0.3537 - val_loss: 2.7114\n",
            "Epoch 10/10\n",
            "\u001b[1m1250/1250\u001b[0m \u001b[32m━━━━━━━━━━━━━━━━━━━━\u001b[0m\u001b[37m\u001b[0m \u001b[1m64s\u001b[0m 51ms/step - accuracy: 0.5784 - loss: 1.5270 - val_accuracy: 0.3467 - val_loss: 2.7450\n"
          ]
        }
      ]
    },
    {
      "cell_type": "code",
      "source": [
        "plt.plot(history.history['accuracy'], label='Training Accuracy')\n",
        "plt.plot(history.history['val_accuracy'], label='Validation Accuracy')\n",
        "plt.xlabel('Epochs')\n",
        "plt.ylabel('Accuracy')\n",
        "plt.legend()\n",
        "plt.show()"
      ],
      "metadata": {
        "colab": {
          "base_uri": "https://localhost:8080/",
          "height": 449
        },
        "id": "vLRKacST8Oms",
        "outputId": "76e24dc9-6ae6-458b-9bcb-69a7e125bb5f"
      },
      "id": "vLRKacST8Oms",
      "execution_count": 54,
      "outputs": [
        {
          "output_type": "display_data",
          "data": {
            "text/plain": [
              "<Figure size 640x480 with 1 Axes>"
            ],
            "image/png": "[encoded data removed]"
          },
          "metadata": {}
        }
      ]
    },
    {
      "cell_type": "markdown",
      "id": "b48615c26b99d2e9",
      "metadata": {
        "collapsed": false,
        "id": "b48615c26b99d2e9"
      },
      "source": [
        "### Task 3b: Accuracy and other relevant metrics on the test set\n",
        "\n",
        "- Report the accuracy of your model on the test set.\n",
        "- While accuracy is a good metric, there are many other ways to numerically evaluate a model. Report at least one other metric, and explain what it measures and how it is calculated.\n",
        "\n",
        "- <b>Accuracy:</b> ______\n",
        "- <b>Other metric:</b> ______\n",
        "- <b>Reason for selection:</b> _____\n",
        "- <b>Value of metric:</b> ______\n",
        "- <b>Interpretation of metric value:</b> ______"
      ]
    },
    {
      "cell_type": "code",
      "source": [
        "# Considering the low accuracy observed topKcategorical Accuracy was chosen,\n",
        "# checking if the true class is among the top 5 predicted classes, to provide more detail about accuracy.\n",
        "# The metric is calculated by sorting the predictions by probability for each image,\n",
        "# checking if the ground truth is among the 5 predicted top probabilities to consider true if is,\n",
        "# and calculating the fraction of True images from the total number.\n",
        "# Used 5 epochs as the model is overfitted with 10."
      ],
      "metadata": {
        "id": "P4JG7Z_yBePp"
      },
      "id": "P4JG7Z_yBePp",
      "execution_count": null,
      "outputs": []
    },
    {
      "cell_type": "code",
      "source": [
        "from keras.models import Sequential\n",
        "from keras.layers import InputLayer, Conv2D, MaxPooling2D, Flatten, Dense\n",
        "from keras import optimizers\n",
        "from tensorflow.keras.optimizers import Adam\n",
        "from keras.metrics import TopKCategoricalAccuracy\n",
        "\n",
        "def model5(input_shape, num_classes):\n",
        "    model = Sequential()\n",
        "    model.add(InputLayer(shape=input_shape))\n",
        "\n",
        "    model.add(Conv2D(32, (3, 3), activation='relu', padding='same')) #strides=(2, 2)\n",
        "    model.add(Conv2D(64, (3, 3), activation='relu', padding='same', strides=(2, 2)))\n",
        "    model.add(MaxPooling2D((2, 2), strides=(2, 2)))\n",
        "    model.add(Conv2D(128, (3, 3), activation='relu', padding='same', strides=(2, 2)))\n",
        "    model.add(MaxPooling2D((2, 2), strides=(2, 2)))\n",
        "    model.add(Flatten())\n",
        "    model.add(Dense(256, activation='relu'))\n",
        "    #model.add(BatchNormalization())\n",
        "    #model.add(Dropout(0.3))\n",
        "    model.add(Dense(num_classes, activation='softmax'))\n",
        "\n",
        "    return model\n",
        "\n",
        "input_shape = (32, 32, 3)\n",
        "num_classes = 100\n",
        "\n",
        "model5 = model5(input_shape, num_classes)\n",
        "#model5.summary()\n",
        "\n",
        "top_5_acc = TopKCategoricalAccuracy(k=5)\n",
        "model5.compile(optimizer='adam',\n",
        "              loss='categorical_crossentropy',\n",
        "              metrics=['accuracy', top_5_acc])\n",
        "\n",
        "history = model5.fit(\n",
        "    x_train_split, y_train_split,\n",
        "    validation_data=(x_val, y_val),\n",
        "    epochs=5,\n",
        "    batch_size=32)\n"
      ],
      "metadata": {
        "colab": {
          "base_uri": "https://localhost:8080/"
        },
        "id": "2tQJGw6x_-fj",
        "outputId": "d90d8fbd-b64a-4380-ff5b-f4e5584715d8"
      },
      "id": "2tQJGw6x_-fj",
      "execution_count": 55,
      "outputs": [
        {
          "output_type": "stream",
          "name": "stdout",
          "text": [
            "Epoch 1/5\n",
            "\u001b[1m1250/1250\u001b[0m \u001b[32m━━━━━━━━━━━━━━━━━━━━\u001b[0m\u001b[37m\u001b[0m \u001b[1m70s\u001b[0m 55ms/step - accuracy: 0.0654 - loss: 4.1464 - top_k_categorical_accuracy: 0.2127 - val_accuracy: 0.1827 - val_loss: 3.3671 - val_top_k_categorical_accuracy: 0.4589\n",
            "Epoch 2/5\n",
            "\u001b[1m1250/1250\u001b[0m \u001b[32m━━━━━━━━━━━━━━━━━━━━\u001b[0m\u001b[37m\u001b[0m \u001b[1m81s\u001b[0m 55ms/step - accuracy: 0.2237 - loss: 3.1783 - top_k_categorical_accuracy: 0.5059 - val_accuracy: 0.2664 - val_loss: 2.9570 - val_top_k_categorical_accuracy: 0.5690\n",
            "Epoch 3/5\n",
            "\u001b[1m1250/1250\u001b[0m \u001b[32m━━━━━━━━━━━━━━━━━━━━\u001b[0m\u001b[37m\u001b[0m \u001b[1m80s\u001b[0m 53ms/step - accuracy: 0.2960 - loss: 2.7792 - top_k_categorical_accuracy: 0.6104 - val_accuracy: 0.3060 - val_loss: 2.8184 - val_top_k_categorical_accuracy: 0.6035\n",
            "Epoch 4/5\n",
            "\u001b[1m1250/1250\u001b[0m \u001b[32m━━━━━━━━━━━━━━━━━━━━\u001b[0m\u001b[37m\u001b[0m \u001b[1m81s\u001b[0m 52ms/step - accuracy: 0.3580 - loss: 2.4946 - top_k_categorical_accuracy: 0.6712 - val_accuracy: 0.3154 - val_loss: 2.7291 - val_top_k_categorical_accuracy: 0.6200\n",
            "Epoch 5/5\n",
            "\u001b[1m1250/1250\u001b[0m \u001b[32m━━━━━━━━━━━━━━━━━━━━\u001b[0m\u001b[37m\u001b[0m \u001b[1m70s\u001b[0m 56ms/step - accuracy: 0.3938 - loss: 2.3221 - top_k_categorical_accuracy: 0.7065 - val_accuracy: 0.3347 - val_loss: 2.6320 - val_top_k_categorical_accuracy: 0.6479\n"
          ]
        }
      ]
    },
    {
      "cell_type": "code",
      "source": [
        "test_loss, test_accuracy, top_5_acc_test = model5.evaluate(x_test_norm, y_test_one_hot)\n",
        "print(f\"Test Accuracy: {test_accuracy * 100:.2f}%\")\n",
        "print(f\"Test Loss: {test_loss}\")\n",
        "print(f\"Top-5 Test Accuracy: {top_5_acc_test * 100:.2f}%\")"
      ],
      "metadata": {
        "colab": {
          "base_uri": "https://localhost:8080/"
        },
        "id": "ZilKwQ_J_NcY",
        "outputId": "c91402a4-0cd8-456d-8d57-b11088f4234a"
      },
      "id": "ZilKwQ_J_NcY",
      "execution_count": 56,
      "outputs": [
        {
          "output_type": "stream",
          "name": "stdout",
          "text": [
            "\u001b[1m313/313\u001b[0m \u001b[32m━━━━━━━━━━━━━━━━━━━━\u001b[0m\u001b[37m\u001b[0m \u001b[1m4s\u001b[0m 14ms/step - accuracy: 0.3421 - loss: 2.6148 - top_k_categorical_accuracy: 0.6506\n",
            "Test Accuracy: 33.61%\n",
            "Test Loss: 2.61785626411438\n",
            "Top-5 Test Accuracy: 64.53%\n"
          ]
        }
      ]
    },
    {
      "cell_type": "code",
      "source": [
        "# The top-5 accuracy is twice higher than the top-1 accuracy.\n",
        "# The model frequently predicts the true class among the top 5 pridicted classes.\n",
        "# This means that there is some learning happenning with this architecture, and the model can be potentially improved."
      ],
      "metadata": {
        "id": "0wkNjAtABjsj"
      },
      "id": "0wkNjAtABjsj",
      "execution_count": null,
      "outputs": []
    },
    {
      "cell_type": "markdown",
      "id": "58d2d836d4e8ce99",
      "metadata": {
        "collapsed": false,
        "id": "58d2d836d4e8ce99"
      },
      "source": [
        "### Task 3c: Visualize the model's learning\n",
        "\n",
        "- Plot the training accuracy and validation accuracy with respect to epochs.\n",
        "- Select an image that the model correctly classified in the test set, and an image that the model incorrectly classified in the test set. Plot the images and report the model's classification probabilities for each.\n",
        "- Briefly discuss the results. What do the plots show? Do the results make sense? What do the classification probabilities indicate?"
      ]
    },
    {
      "cell_type": "code",
      "execution_count": 57,
      "id": "c5b214475a496ca5",
      "metadata": {
        "ExecuteTime": {
          "end_time": "2024-01-26T17:50:59.733968Z",
          "start_time": "2024-01-26T17:50:59.730635Z"
        },
        "colab": {
          "base_uri": "https://localhost:8080/",
          "height": 449
        },
        "id": "c5b214475a496ca5",
        "outputId": "cc28838f-e197-46ab-9f0a-a8b6bd0b0180"
      },
      "outputs": [
        {
          "output_type": "display_data",
          "data": {
            "text/plain": [
              "<Figure size 640x480 with 1 Axes>"
            ],
            "image/png": "[encoded data removed]"
          },
          "metadata": {}
        }
      ],
      "source": [
        "# Your code here\n",
        "import matplotlib.pyplot as plt\n",
        "\n",
        "plt.plot(history.history['loss'], label='Training Loss')\n",
        "plt.plot(history.history['val_loss'], label='Validation Loss')\n",
        "plt.xlabel('Epochs')\n",
        "plt.ylabel('Loss')\n",
        "plt.legend()\n",
        "plt.show()"
      ]
    },
    {
      "cell_type": "code",
      "source": [
        "plt.plot(history.history['accuracy'], label='Training Accuracy')\n",
        "plt.plot(history.history['val_accuracy'], label='Validation Accuracy')\n",
        "plt.xlabel('Epochs')\n",
        "plt.ylabel('Accuracy')\n",
        "plt.legend()\n",
        "plt.show()"
      ],
      "metadata": {
        "colab": {
          "base_uri": "https://localhost:8080/",
          "height": 449
        },
        "id": "ZAQp2hG7PAo3",
        "outputId": "ae799489-9f89-4368-f8fb-f737db4b964c"
      },
      "id": "ZAQp2hG7PAo3",
      "execution_count": 58,
      "outputs": [
        {
          "output_type": "display_data",
          "data": {
            "text/plain": [
              "<Figure size 640x480 with 1 Axes>"
            ],
            "image/png": "[encoded data removed]"
          },
          "metadata": {}
        }
      ]
    },
    {
      "cell_type": "code",
      "source": [
        "label_names = ['apple', 'aquarium_fish', 'baby', 'bear', 'beaver', 'bed', 'bee', 'beetle',\n",
        "               'bicycle', 'bottle', 'bowl', 'boy', 'bridge', 'bus', 'butterfly', 'camel',\n",
        "               'can', 'castle', 'caterpillar', 'cattle', 'chair', 'chimpanzee', 'clock',\n",
        "               'cloud', 'cockroach', 'couch', 'crab', 'crocodile', 'cup', 'dinosaur',\n",
        "               'dolphin', 'elephant', 'flatfish', 'forest', 'fox', 'girl', 'hamster',\n",
        "               'house', 'kangaroo', 'keyboard', 'lamp', 'lawn_mower', 'leopard', 'lion',\n",
        "               'lizard', 'lobster', 'man', 'maple_tree', 'motorcycle', 'mountain', 'mouse',\n",
        "               'mushroom', 'oak_tree', 'orange', 'orchid', 'otter', 'palm_tree', 'pear',\n",
        "               'pickup_truck', 'pine_tree', 'plain', 'plate', 'poppy', 'porcupine',\n",
        "               'possum', 'rabbit', 'raccoon', 'ray', 'road', 'rocket', 'rose', 'sea',\n",
        "               'seal', 'shark', 'shrew', 'skunk', 'skyscraper', 'snail', 'snake', 'spider',\n",
        "               'squirrel', 'streetcar', 'sunflower', 'sweet_pepper', 'table', 'tank',\n",
        "               'telephone', 'television', 'tiger', 'tractor', 'train', 'trout', 'tulip',\n",
        "               'turtle', 'wardrobe', 'whale', 'willow_tree', 'wolf', 'woman', 'worm']\n",
        "\n",
        "predictions = model5.predict(x_test_norm)  # Predict probabilities on normalized test data\n",
        "predicted_classes = np.argmax(predictions, axis=1)  # Get predicted class indices\n",
        "\n",
        "true_classes = np.argmax(y_test_one_hot, axis=1)  # True class indices\n",
        "correct_indices = np.where(predicted_classes == true_classes)[0]\n",
        "incorrect_indices = np.where(predicted_classes != true_classes)[0]\n",
        "\n",
        "correct_image_idx = correct_indices[0]  # First correctly classified image\n",
        "incorrect_image_idx = incorrect_indices[0]  # First incorrectly classified image\n",
        "\n",
        "\n",
        "def plot_image_with_probs(image_idx, x_test, true_classes, predictions, label_names):\n",
        "    # Get the original image, true label, and predicted probabilities\n",
        "    image = x_test[image_idx]\n",
        "    true_label_idx = true_classes[image_idx]\n",
        "    pred_probs = predictions[image_idx]\n",
        "    pred_label_idx = np.argmax(pred_probs)\n",
        "\n",
        "    # Map indices to label names\n",
        "    true_label_name = label_names[true_label_idx]\n",
        "    pred_label_name = label_names[pred_label_idx]\n",
        "\n",
        "    # Plot the original image\n",
        "    plt.imshow(image.astype('uint8'))  # Convert to uint8 to display properly\n",
        "    plt.axis('off')\n",
        "    plt.title(f\"True: {true_label_name}, Predicted: {pred_label_name}\")\n",
        "    plt.show()\n",
        "\n",
        "    # Display predicted probabilities with label names\n",
        "    sorted_indices = np.argsort(pred_probs)[::-1]  # Sort probabilities in descending order\n",
        "    for i in range(5):  # Top-5 predictions\n",
        "        class_idx = sorted_indices[i]\n",
        "        class_name = label_names[class_idx]\n",
        "        print(f\"{class_name} ({class_idx}): {pred_probs[class_idx]:.4f}\")\n",
        "    print(\"-\" * 30)\n",
        "\n",
        "# Plot and report for correct and incorrect classifications using the original dataset\n",
        "print(\"Correctly Classified Image:\")\n",
        "plot_image_with_probs(correct_image_idx, x_test, true_classes, predictions, label_names)\n",
        "\n",
        "print(\"Incorrectly Classified Image:\")\n",
        "plot_image_with_probs(incorrect_image_idx, x_test, true_classes, predictions, label_names)"
      ],
      "metadata": {
        "colab": {
          "base_uri": "https://localhost:8080/",
          "height": 1000
        },
        "id": "c_Xzr7b97OtZ",
        "outputId": "a9550d17-e491-414b-be2e-7e9413022531"
      },
      "id": "c_Xzr7b97OtZ",
      "execution_count": 27,
      "outputs": [
        {
          "output_type": "stream",
          "name": "stdout",
          "text": [
            "\u001b[1m313/313\u001b[0m \u001b[32m━━━━━━━━━━━━━━━━━━━━\u001b[0m\u001b[37m\u001b[0m \u001b[1m6s\u001b[0m 20ms/step\n",
            "Correctly Classified Image:\n"
          ]
        },
        {
          "output_type": "display_data",
          "data": {
            "text/plain": [
              "<Figure size 640x480 with 1 Axes>"
            ],
            "image/png": "[encoded data removed]"
          },
          "metadata": {}
        },
        {
          "output_type": "stream",
          "name": "stdout",
          "text": [
            "forest (33): 0.4184\n",
            "squirrel (80): 0.0734\n",
            "palm_tree (56): 0.0604\n",
            "road (68): 0.0522\n",
            "dinosaur (29): 0.0404\n",
            "------------------------------\n",
            "Incorrectly Classified Image:\n"
          ]
        },
        {
          "output_type": "display_data",
          "data": {
            "text/plain": [
              "<Figure size 640x480 with 1 Axes>"
            ],
            "image/png": "[encoded data removed]"
          },
          "metadata": {}
        },
        {
          "output_type": "stream",
          "name": "stdout",
          "text": [
            "keyboard (39): 0.1462\n",
            "whale (95): 0.1141\n",
            "dolphin (30): 0.0724\n",
            "worm (99): 0.0550\n",
            "lamp (40): 0.0425\n",
            "------------------------------\n"
          ]
        }
      ]
    },
    {
      "cell_type": "code",
      "source": [
        "\n",
        "# The plots show signs of overfitting: while training accuracy is increasing, validation accuracy is reaching a plateau.\n",
        "# For the correct prediction, the result do make sence,\n",
        "# the right class has the top probability, and other classes, including some similar ones, are much less probable.\n",
        "# For the incorrectly predicted, the right class wasn't in the top five predicted classes,\n",
        "# and the precdicted class has relatively low probability.\n",
        "\n",
        "# The classification probabilities indicate how shure was the model in the class prediction."
      ],
      "metadata": {
        "id": "Ur3Lb7NDFUV6"
      },
      "id": "Ur3Lb7NDFUV6",
      "execution_count": null,
      "outputs": []
    },
    {
      "cell_type": "markdown",
      "id": "a648758ebea0561d",
      "metadata": {
        "collapsed": false,
        "id": "a648758ebea0561d"
      },
      "source": [
        "## Task 4: Model Enhancement (Complete or Incomplete)\n",
        "### Task 4a: Implementation of at least one advanced technique\n",
        "\n",
        "- Now it's time to improve your model. Implement at least one technique to improve your model's performance. You can use any of the techniques we have covered in class, or you can use a technique that we haven't covered. If you need inspiration, you can refer to the [Keras documentation](https://keras.io/).\n",
        "- Explain the technique you used and why you chose it.\n",
        "- If you used a technique that requires tuning, explain how you selected the values for the hyperparameters."
      ]
    },
    {
      "cell_type": "code",
      "source": [
        "# Because the model rapidly overfits, a dropout technique in can be used to address this.\n",
        "# Dense layers contain more parameters and likely cause the overfitting, so droput can be applied in the dense layer first.\n",
        "# Dropout(0.5) is used to begin the experiment. 5 epochs are used to evaluate the performance."
      ],
      "metadata": {
        "id": "qIPuZcJMOkYk"
      },
      "id": "qIPuZcJMOkYk",
      "execution_count": null,
      "outputs": []
    },
    {
      "cell_type": "code",
      "execution_count": 38,
      "id": "f3659ac83122567f",
      "metadata": {
        "id": "f3659ac83122567f",
        "colab": {
          "base_uri": "https://localhost:8080/"
        },
        "outputId": "703bf677-dfd2-4950-a7b3-a223808a7aad"
      },
      "outputs": [
        {
          "output_type": "stream",
          "name": "stdout",
          "text": [
            "Epoch 1/10\n",
            "\u001b[1m1250/1250\u001b[0m \u001b[32m━━━━━━━━━━━━━━━━━━━━\u001b[0m\u001b[37m\u001b[0m \u001b[1m69s\u001b[0m 54ms/step - accuracy: 0.0346 - loss: 4.3597 - top_k_categorical_accuracy: 0.1394 - val_accuracy: 0.1401 - val_loss: 3.6567 - val_top_k_categorical_accuracy: 0.3783\n",
            "Epoch 2/10\n",
            "\u001b[1m1250/1250\u001b[0m \u001b[32m━━━━━━━━━━━━━━━━━━━━\u001b[0m\u001b[37m\u001b[0m \u001b[1m81s\u001b[0m 54ms/step - accuracy: 0.1329 - loss: 3.6563 - top_k_categorical_accuracy: 0.3708 - val_accuracy: 0.2090 - val_loss: 3.2674 - val_top_k_categorical_accuracy: 0.4909\n",
            "Epoch 3/10\n",
            "\u001b[1m1250/1250\u001b[0m \u001b[32m━━━━━━━━━━━━━━━━━━━━\u001b[0m\u001b[37m\u001b[0m \u001b[1m83s\u001b[0m 54ms/step - accuracy: 0.1894 - loss: 3.3446 - top_k_categorical_accuracy: 0.4654 - val_accuracy: 0.2467 - val_loss: 3.0436 - val_top_k_categorical_accuracy: 0.5545\n",
            "Epoch 4/10\n",
            "\u001b[1m1250/1250\u001b[0m \u001b[32m━━━━━━━━━━━━━━━━━━━━\u001b[0m\u001b[37m\u001b[0m \u001b[1m67s\u001b[0m 54ms/step - accuracy: 0.2228 - loss: 3.1286 - top_k_categorical_accuracy: 0.5174 - val_accuracy: 0.2675 - val_loss: 2.9694 - val_top_k_categorical_accuracy: 0.5781\n",
            "Epoch 5/10\n",
            "\u001b[1m1250/1250\u001b[0m \u001b[32m━━━━━━━━━━━━━━━━━━━━\u001b[0m\u001b[37m\u001b[0m \u001b[1m81s\u001b[0m 53ms/step - accuracy: 0.2541 - loss: 2.9805 - top_k_categorical_accuracy: 0.5580 - val_accuracy: 0.2916 - val_loss: 2.8137 - val_top_k_categorical_accuracy: 0.6064\n",
            "Epoch 6/10\n",
            "\u001b[1m1250/1250\u001b[0m \u001b[32m━━━━━━━━━━━━━━━━━━━━\u001b[0m\u001b[37m\u001b[0m \u001b[1m65s\u001b[0m 52ms/step - accuracy: 0.2745 - loss: 2.8627 - top_k_categorical_accuracy: 0.5847 - val_accuracy: 0.3015 - val_loss: 2.7653 - val_top_k_categorical_accuracy: 0.6215\n",
            "Epoch 7/10\n",
            "\u001b[1m1250/1250\u001b[0m \u001b[32m━━━━━━━━━━━━━━━━━━━━\u001b[0m\u001b[37m\u001b[0m \u001b[1m85s\u001b[0m 55ms/step - accuracy: 0.2907 - loss: 2.7689 - top_k_categorical_accuracy: 0.6104 - val_accuracy: 0.3161 - val_loss: 2.7078 - val_top_k_categorical_accuracy: 0.6279\n",
            "Epoch 8/10\n",
            "\u001b[1m1250/1250\u001b[0m \u001b[32m━━━━━━━━━━━━━━━━━━━━\u001b[0m\u001b[37m\u001b[0m \u001b[1m65s\u001b[0m 52ms/step - accuracy: 0.3068 - loss: 2.6772 - top_k_categorical_accuracy: 0.6341 - val_accuracy: 0.3238 - val_loss: 2.6535 - val_top_k_categorical_accuracy: 0.6440\n",
            "Epoch 9/10\n",
            "\u001b[1m1250/1250\u001b[0m \u001b[32m━━━━━━━━━━━━━━━━━━━━\u001b[0m\u001b[37m\u001b[0m \u001b[1m82s\u001b[0m 52ms/step - accuracy: 0.3236 - loss: 2.6031 - top_k_categorical_accuracy: 0.6503 - val_accuracy: 0.3358 - val_loss: 2.6133 - val_top_k_categorical_accuracy: 0.6523\n",
            "Epoch 10/10\n",
            "\u001b[1m1250/1250\u001b[0m \u001b[32m━━━━━━━━━━━━━━━━━━━━\u001b[0m\u001b[37m\u001b[0m \u001b[1m83s\u001b[0m 53ms/step - accuracy: 0.3376 - loss: 2.5273 - top_k_categorical_accuracy: 0.6632 - val_accuracy: 0.3338 - val_loss: 2.6218 - val_top_k_categorical_accuracy: 0.6494\n"
          ]
        }
      ],
      "source": [
        "# Your code here\n",
        "from keras.models import Sequential\n",
        "from keras.layers import InputLayer, Conv2D, MaxPooling2D, Flatten, Dense, Dropout\n",
        "from keras import optimizers\n",
        "from tensorflow.keras.optimizers import Adam\n",
        "from keras.metrics import TopKCategoricalAccuracy\n",
        "\n",
        "def model51(input_shape, num_classes):\n",
        "    model = Sequential()\n",
        "    model.add(InputLayer(shape=input_shape))\n",
        "\n",
        "    model.add(Conv2D(32, (3, 3), activation='relu', padding='same')) #strides=(2, 2)\n",
        "    model.add(Conv2D(64, (3, 3), activation='relu', padding='same', strides=(2, 2)))\n",
        "    model.add(MaxPooling2D((2, 2), strides=(2, 2)))\n",
        "    model.add(Conv2D(128, (3, 3), activation='relu', padding='same', strides=(2, 2)))\n",
        "    model.add(MaxPooling2D((2, 2), strides=(2, 2)))\n",
        "    model.add(Flatten())\n",
        "    model.add(Dense(256, activation='relu'))\n",
        "    #model.add(BatchNormalization())\n",
        "    model.add(Dropout(0.5))\n",
        "    model.add(Dense(num_classes, activation='softmax'))\n",
        "\n",
        "    return model\n",
        "\n",
        "input_shape = (32, 32, 3)\n",
        "num_classes = 100\n",
        "\n",
        "model51 = model51(input_shape, num_classes)\n",
        "#model5.summary()\n",
        "\n",
        "top_5_acc = TopKCategoricalAccuracy(k=5)\n",
        "model51.compile(optimizer='adam',\n",
        "              loss='categorical_crossentropy',\n",
        "              metrics=['accuracy', top_5_acc])\n",
        "\n",
        "history = model51.fit(\n",
        "    x_train_split, y_train_split,\n",
        "    validation_data=(x_val, y_val),\n",
        "    epochs=10,\n",
        "    batch_size=32)"
      ]
    },
    {
      "cell_type": "code",
      "source": [
        "# Dropout parameter after the dense layer tuned to 0.3, because 0.5 did not make much differnece.\n",
        "def model52(input_shape, num_classes):\n",
        "    model = Sequential()\n",
        "    model.add(InputLayer(shape=input_shape))\n",
        "\n",
        "    model.add(Conv2D(32, (3, 3), activation='relu', padding='same')) #strides=(2, 2)\n",
        "    model.add(Conv2D(64, (3, 3), activation='relu', padding='same', strides=(2, 2)))\n",
        "    model.add(MaxPooling2D((2, 2), strides=(2, 2)))\n",
        "    model.add(Conv2D(128, (3, 3), activation='relu', padding='same', strides=(2, 2)))\n",
        "    model.add(MaxPooling2D((2, 2), strides=(2, 2)))\n",
        "    model.add(Flatten())\n",
        "    model.add(Dense(256, activation='relu'))\n",
        "    model.add(Dropout(0.3))\n",
        "    model.add(Dense(num_classes, activation='softmax'))\n",
        "\n",
        "    return model\n",
        "\n",
        "input_shape = (32, 32, 3)\n",
        "num_classes = 100\n",
        "\n",
        "model52 = model52(input_shape, num_classes)\n",
        "#model5.summary()\n",
        "\n",
        "top_5_acc = TopKCategoricalAccuracy(k=5)\n",
        "model52.compile(optimizer='adam',\n",
        "              loss='categorical_crossentropy',\n",
        "              metrics=['accuracy', top_5_acc])\n",
        "\n",
        "history = model52.fit(\n",
        "    x_train_split, y_train_split,\n",
        "    validation_data=(x_val, y_val),\n",
        "    epochs=10,\n",
        "    batch_size=32)"
      ],
      "metadata": {
        "colab": {
          "base_uri": "https://localhost:8080/"
        },
        "id": "p4SSm_LHg12u",
        "outputId": "ff6c6c8a-ce77-4026-cd66-66fae2895cd6"
      },
      "id": "p4SSm_LHg12u",
      "execution_count": 39,
      "outputs": [
        {
          "output_type": "stream",
          "name": "stdout",
          "text": [
            "Epoch 1/10\n",
            "\u001b[1m1250/1250\u001b[0m \u001b[32m━━━━━━━━━━━━━━━━━━━━\u001b[0m\u001b[37m\u001b[0m \u001b[1m69s\u001b[0m 53ms/step - accuracy: 0.0445 - loss: 4.2873 - top_k_categorical_accuracy: 0.1619 - val_accuracy: 0.1634 - val_loss: 3.5165 - val_top_k_categorical_accuracy: 0.4228\n",
            "Epoch 2/10\n",
            "\u001b[1m1250/1250\u001b[0m \u001b[32m━━━━━━━━━━━━━━━━━━━━\u001b[0m\u001b[37m\u001b[0m \u001b[1m80s\u001b[0m 51ms/step - accuracy: 0.1681 - loss: 3.4629 - top_k_categorical_accuracy: 0.4274 - val_accuracy: 0.2338 - val_loss: 3.1080 - val_top_k_categorical_accuracy: 0.5368\n",
            "Epoch 3/10\n",
            "\u001b[1m1250/1250\u001b[0m \u001b[32m━━━━━━━━━━━━━━━━━━━━\u001b[0m\u001b[37m\u001b[0m \u001b[1m66s\u001b[0m 53ms/step - accuracy: 0.2342 - loss: 3.0936 - top_k_categorical_accuracy: 0.5276 - val_accuracy: 0.2706 - val_loss: 2.9330 - val_top_k_categorical_accuracy: 0.5720\n",
            "Epoch 4/10\n",
            "\u001b[1m1250/1250\u001b[0m \u001b[32m━━━━━━━━━━━━━━━━━━━━\u001b[0m\u001b[37m\u001b[0m \u001b[1m82s\u001b[0m 53ms/step - accuracy: 0.2785 - loss: 2.8808 - top_k_categorical_accuracy: 0.5809 - val_accuracy: 0.2948 - val_loss: 2.8003 - val_top_k_categorical_accuracy: 0.6075\n",
            "Epoch 5/10\n",
            "\u001b[1m1250/1250\u001b[0m \u001b[32m━━━━━━━━━━━━━━━━━━━━\u001b[0m\u001b[37m\u001b[0m \u001b[1m82s\u001b[0m 53ms/step - accuracy: 0.3125 - loss: 2.6999 - top_k_categorical_accuracy: 0.6270 - val_accuracy: 0.3192 - val_loss: 2.7065 - val_top_k_categorical_accuracy: 0.6277\n",
            "Epoch 6/10\n",
            "\u001b[1m1250/1250\u001b[0m \u001b[32m━━━━━━━━━━━━━━━━━━━━\u001b[0m\u001b[37m\u001b[0m \u001b[1m67s\u001b[0m 54ms/step - accuracy: 0.3392 - loss: 2.5461 - top_k_categorical_accuracy: 0.6600 - val_accuracy: 0.3249 - val_loss: 2.6601 - val_top_k_categorical_accuracy: 0.6346\n",
            "Epoch 7/10\n",
            "\u001b[1m1250/1250\u001b[0m \u001b[32m━━━━━━━━━━━━━━━━━━━━\u001b[0m\u001b[37m\u001b[0m \u001b[1m82s\u001b[0m 54ms/step - accuracy: 0.3624 - loss: 2.4506 - top_k_categorical_accuracy: 0.6790 - val_accuracy: 0.3394 - val_loss: 2.6077 - val_top_k_categorical_accuracy: 0.6504\n",
            "Epoch 8/10\n",
            "\u001b[1m1250/1250\u001b[0m \u001b[32m━━━━━━━━━━━━━━━━━━━━\u001b[0m\u001b[37m\u001b[0m \u001b[1m79s\u001b[0m 52ms/step - accuracy: 0.3844 - loss: 2.3434 - top_k_categorical_accuracy: 0.7017 - val_accuracy: 0.3365 - val_loss: 2.6093 - val_top_k_categorical_accuracy: 0.6474\n",
            "Epoch 9/10\n",
            "\u001b[1m1250/1250\u001b[0m \u001b[32m━━━━━━━━━━━━━━━━━━━━\u001b[0m\u001b[37m\u001b[0m \u001b[1m87s\u001b[0m 56ms/step - accuracy: 0.4001 - loss: 2.2425 - top_k_categorical_accuracy: 0.7260 - val_accuracy: 0.3546 - val_loss: 2.5418 - val_top_k_categorical_accuracy: 0.6680\n",
            "Epoch 10/10\n",
            "\u001b[1m1250/1250\u001b[0m \u001b[32m━━━━━━━━━━━━━━━━━━━━\u001b[0m\u001b[37m\u001b[0m \u001b[1m79s\u001b[0m 54ms/step - accuracy: 0.4196 - loss: 2.1587 - top_k_categorical_accuracy: 0.7396 - val_accuracy: 0.3565 - val_loss: 2.5176 - val_top_k_categorical_accuracy: 0.6701\n"
          ]
        }
      ]
    },
    {
      "cell_type": "code",
      "source": [
        "# Dropout parameter after the dense layer tuned to 0.7.\n",
        "def model53(input_shape, num_classes):\n",
        "    model = Sequential()\n",
        "    model.add(InputLayer(shape=input_shape))\n",
        "\n",
        "    model.add(Conv2D(32, (3, 3), activation='relu', padding='same')) #strides=(2, 2)\n",
        "    model.add(Conv2D(64, (3, 3), activation='relu', padding='same', strides=(2, 2)))\n",
        "    model.add(MaxPooling2D((2, 2), strides=(2, 2)))\n",
        "    model.add(Conv2D(128, (3, 3), activation='relu', padding='same', strides=(2, 2)))\n",
        "    model.add(MaxPooling2D((2, 2), strides=(2, 2)))\n",
        "    model.add(Flatten())\n",
        "    model.add(Dense(256, activation='relu'))\n",
        "    model.add(Dropout(0.7))\n",
        "    model.add(Dense(num_classes, activation='softmax'))\n",
        "\n",
        "    return model\n",
        "\n",
        "input_shape = (32, 32, 3)\n",
        "num_classes = 100\n",
        "\n",
        "model53 = model53(input_shape, num_classes)\n",
        "#model5.summary()\n",
        "\n",
        "top_5_acc = TopKCategoricalAccuracy(k=5)\n",
        "model53.compile(optimizer='adam',\n",
        "              loss='categorical_crossentropy',\n",
        "              metrics=['accuracy', top_5_acc])\n",
        "\n",
        "history = model53.fit(\n",
        "    x_train_split, y_train_split,\n",
        "    validation_data=(x_val, y_val),\n",
        "    epochs=10,\n",
        "    batch_size=32)"
      ],
      "metadata": {
        "colab": {
          "base_uri": "https://localhost:8080/"
        },
        "id": "pQx-GA9JnaBC",
        "outputId": "49b56ebe-f607-4ca6-ba02-410e597c2d9c"
      },
      "id": "pQx-GA9JnaBC",
      "execution_count": 40,
      "outputs": [
        {
          "output_type": "stream",
          "name": "stdout",
          "text": [
            "Epoch 1/10\n",
            "\u001b[1m1250/1250\u001b[0m \u001b[32m━━━━━━━━━━━━━━━━━━━━\u001b[0m\u001b[37m\u001b[0m \u001b[1m69s\u001b[0m 54ms/step - accuracy: 0.0288 - loss: 4.4335 - top_k_categorical_accuracy: 0.1160 - val_accuracy: 0.1146 - val_loss: 3.7932 - val_top_k_categorical_accuracy: 0.3412\n",
            "Epoch 2/10\n",
            "\u001b[1m1250/1250\u001b[0m \u001b[32m━━━━━━━━━━━━━━━━━━━━\u001b[0m\u001b[37m\u001b[0m \u001b[1m72s\u001b[0m 57ms/step - accuracy: 0.0951 - loss: 3.8700 - top_k_categorical_accuracy: 0.2999 - val_accuracy: 0.1743 - val_loss: 3.4600 - val_top_k_categorical_accuracy: 0.4529\n",
            "Epoch 3/10\n",
            "\u001b[1m1250/1250\u001b[0m \u001b[32m━━━━━━━━━━━━━━━━━━━━\u001b[0m\u001b[37m\u001b[0m \u001b[1m78s\u001b[0m 55ms/step - accuracy: 0.1396 - loss: 3.5938 - top_k_categorical_accuracy: 0.3856 - val_accuracy: 0.2154 - val_loss: 3.2688 - val_top_k_categorical_accuracy: 0.5113\n",
            "Epoch 4/10\n",
            "\u001b[1m1250/1250\u001b[0m \u001b[32m━━━━━━━━━━━━━━━━━━━━\u001b[0m\u001b[37m\u001b[0m \u001b[1m85s\u001b[0m 57ms/step - accuracy: 0.1654 - loss: 3.4285 - top_k_categorical_accuracy: 0.4379 - val_accuracy: 0.2293 - val_loss: 3.1230 - val_top_k_categorical_accuracy: 0.5381\n",
            "Epoch 5/10\n",
            "\u001b[1m1250/1250\u001b[0m \u001b[32m━━━━━━━━━━━━━━━━━━━━\u001b[0m\u001b[37m\u001b[0m \u001b[1m67s\u001b[0m 54ms/step - accuracy: 0.1939 - loss: 3.2976 - top_k_categorical_accuracy: 0.4731 - val_accuracy: 0.2541 - val_loss: 3.0262 - val_top_k_categorical_accuracy: 0.5611\n",
            "Epoch 6/10\n",
            "\u001b[1m1250/1250\u001b[0m \u001b[32m━━━━━━━━━━━━━━━━━━━━\u001b[0m\u001b[37m\u001b[0m \u001b[1m82s\u001b[0m 54ms/step - accuracy: 0.2140 - loss: 3.1780 - top_k_categorical_accuracy: 0.5054 - val_accuracy: 0.2659 - val_loss: 2.9333 - val_top_k_categorical_accuracy: 0.5810\n",
            "Epoch 7/10\n",
            "\u001b[1m1250/1250\u001b[0m \u001b[32m━━━━━━━━━━━━━━━━━━━━\u001b[0m\u001b[37m\u001b[0m \u001b[1m84s\u001b[0m 55ms/step - accuracy: 0.2281 - loss: 3.0766 - top_k_categorical_accuracy: 0.5323 - val_accuracy: 0.2908 - val_loss: 2.8394 - val_top_k_categorical_accuracy: 0.6010\n",
            "Epoch 8/10\n",
            "\u001b[1m1250/1250\u001b[0m \u001b[32m━━━━━━━━━━━━━━━━━━━━\u001b[0m\u001b[37m\u001b[0m \u001b[1m80s\u001b[0m 54ms/step - accuracy: 0.2429 - loss: 3.0068 - top_k_categorical_accuracy: 0.5489 - val_accuracy: 0.2913 - val_loss: 2.8176 - val_top_k_categorical_accuracy: 0.6032\n",
            "Epoch 9/10\n",
            "\u001b[1m1250/1250\u001b[0m \u001b[32m━━━━━━━━━━━━━━━━━━━━\u001b[0m\u001b[37m\u001b[0m \u001b[1m83s\u001b[0m 54ms/step - accuracy: 0.2565 - loss: 2.9429 - top_k_categorical_accuracy: 0.5664 - val_accuracy: 0.2960 - val_loss: 2.7825 - val_top_k_categorical_accuracy: 0.6107\n",
            "Epoch 10/10\n",
            "\u001b[1m1250/1250\u001b[0m \u001b[32m━━━━━━━━━━━━━━━━━━━━\u001b[0m\u001b[37m\u001b[0m \u001b[1m73s\u001b[0m 58ms/step - accuracy: 0.2707 - loss: 2.8664 - top_k_categorical_accuracy: 0.5853 - val_accuracy: 0.3106 - val_loss: 2.7072 - val_top_k_categorical_accuracy: 0.6315\n"
          ]
        }
      ]
    },
    {
      "cell_type": "markdown",
      "id": "d9467a483a1dd5d3",
      "metadata": {
        "collapsed": false,
        "id": "d9467a483a1dd5d3"
      },
      "source": [
        "### Task 4b: Evaluation of the enhanced model\n",
        "\n",
        "- Re-train your model using the same number of epochs as before.\n",
        "- Compare the accuracy and other selected metric on the test set to the results you obtained before.\n",
        "- As before, plot the training accuracy and validation accuracy with respect to epochs, and select an image that the model correctly classified in the test set, and an image that the model incorrectly classified in the test set. Plot the images and report the model's classification probabilities for each."
      ]
    },
    {
      "cell_type": "code",
      "execution_count": 41,
      "id": "7c4701b36dc8fc55",
      "metadata": {
        "id": "7c4701b36dc8fc55",
        "colab": {
          "base_uri": "https://localhost:8080/"
        },
        "outputId": "1bb7d446-8981-46e4-d9d4-4a7ee9235bc6"
      },
      "outputs": [
        {
          "output_type": "stream",
          "name": "stdout",
          "text": [
            "Epoch 1/10\n",
            "\u001b[1m1250/1250\u001b[0m \u001b[32m━━━━━━━━━━━━━━━━━━━━\u001b[0m\u001b[37m\u001b[0m \u001b[1m198s\u001b[0m 157ms/step - accuracy: 0.0526 - loss: 4.2578 - top_k_categorical_accuracy: 0.1792 - val_accuracy: 0.1966 - val_loss: 3.3239 - val_top_k_categorical_accuracy: 0.4737\n",
            "Epoch 2/10\n",
            "\u001b[1m1250/1250\u001b[0m \u001b[32m━━━━━━━━━━━━━━━━━━━━\u001b[0m\u001b[37m\u001b[0m \u001b[1m195s\u001b[0m 156ms/step - accuracy: 0.1958 - loss: 3.3154 - top_k_categorical_accuracy: 0.4708 - val_accuracy: 0.2779 - val_loss: 2.9036 - val_top_k_categorical_accuracy: 0.5869\n",
            "Epoch 3/10\n",
            "\u001b[1m1250/1250\u001b[0m \u001b[32m━━━━━━━━━━━━━━━━━━━━\u001b[0m\u001b[37m\u001b[0m \u001b[1m200s\u001b[0m 154ms/step - accuracy: 0.2755 - loss: 2.9042 - top_k_categorical_accuracy: 0.5770 - val_accuracy: 0.3218 - val_loss: 2.6661 - val_top_k_categorical_accuracy: 0.6344\n",
            "Epoch 4/10\n",
            "\u001b[1m1250/1250\u001b[0m \u001b[32m━━━━━━━━━━━━━━━━━━━━\u001b[0m\u001b[37m\u001b[0m \u001b[1m199s\u001b[0m 152ms/step - accuracy: 0.3252 - loss: 2.6329 - top_k_categorical_accuracy: 0.6434 - val_accuracy: 0.3540 - val_loss: 2.5523 - val_top_k_categorical_accuracy: 0.6632\n",
            "Epoch 5/10\n",
            "\u001b[1m1250/1250\u001b[0m \u001b[32m━━━━━━━━━━━━━━━━━━━━\u001b[0m\u001b[37m\u001b[0m \u001b[1m186s\u001b[0m 149ms/step - accuracy: 0.3609 - loss: 2.4804 - top_k_categorical_accuracy: 0.6720 - val_accuracy: 0.3667 - val_loss: 2.4912 - val_top_k_categorical_accuracy: 0.6714\n",
            "Epoch 6/10\n",
            "\u001b[1m1250/1250\u001b[0m \u001b[32m━━━━━━━━━━━━━━━━━━━━\u001b[0m\u001b[37m\u001b[0m \u001b[1m189s\u001b[0m 151ms/step - accuracy: 0.3907 - loss: 2.3205 - top_k_categorical_accuracy: 0.7065 - val_accuracy: 0.3748 - val_loss: 2.4218 - val_top_k_categorical_accuracy: 0.6885\n",
            "Epoch 7/10\n",
            "\u001b[1m1250/1250\u001b[0m \u001b[32m━━━━━━━━━━━━━━━━━━━━\u001b[0m\u001b[37m\u001b[0m \u001b[1m202s\u001b[0m 151ms/step - accuracy: 0.4274 - loss: 2.1711 - top_k_categorical_accuracy: 0.7415 - val_accuracy: 0.3827 - val_loss: 2.4081 - val_top_k_categorical_accuracy: 0.6945\n",
            "Epoch 8/10\n",
            "\u001b[1m1250/1250\u001b[0m \u001b[32m━━━━━━━━━━━━━━━━━━━━\u001b[0m\u001b[37m\u001b[0m \u001b[1m208s\u001b[0m 156ms/step - accuracy: 0.4466 - loss: 2.0484 - top_k_categorical_accuracy: 0.7643 - val_accuracy: 0.3870 - val_loss: 2.4100 - val_top_k_categorical_accuracy: 0.6941\n",
            "Epoch 9/10\n",
            "\u001b[1m1250/1250\u001b[0m \u001b[32m━━━━━━━━━━━━━━━━━━━━\u001b[0m\u001b[37m\u001b[0m \u001b[1m213s\u001b[0m 171ms/step - accuracy: 0.4704 - loss: 1.9301 - top_k_categorical_accuracy: 0.7884 - val_accuracy: 0.3937 - val_loss: 2.3767 - val_top_k_categorical_accuracy: 0.7068\n",
            "Epoch 10/10\n",
            "\u001b[1m1250/1250\u001b[0m \u001b[32m━━━━━━━━━━━━━━━━━━━━\u001b[0m\u001b[37m\u001b[0m \u001b[1m252s\u001b[0m 163ms/step - accuracy: 0.4886 - loss: 1.8306 - top_k_categorical_accuracy: 0.8049 - val_accuracy: 0.3932 - val_loss: 2.4097 - val_top_k_categorical_accuracy: 0.6958\n"
          ]
        }
      ],
      "source": [
        "# The model52 with 0.3 dropout after the 256 dense layer was the best so far,\n",
        "# so I further experimented with removal of strides in the second convolutional layer.\n",
        "def model521(input_shape, num_classes):\n",
        "    model = Sequential()\n",
        "    model.add(InputLayer(shape=input_shape))\n",
        "\n",
        "    model.add(Conv2D(32, (3, 3), activation='relu', padding='same')) #strides=(2, 2)\n",
        "    model.add(Conv2D(64, (3, 3), activation='relu', padding='same'))\n",
        "    model.add(MaxPooling2D((2, 2), strides=(2, 2)))\n",
        "    model.add(Conv2D(128, (3, 3), activation='relu', padding='same', strides=(2, 2)))\n",
        "    model.add(MaxPooling2D((2, 2), strides=(2, 2)))\n",
        "    model.add(Flatten())\n",
        "    model.add(Dense(256, activation='relu'))\n",
        "    model.add(Dropout(0.3))\n",
        "    model.add(Dense(num_classes, activation='softmax'))\n",
        "\n",
        "    return model\n",
        "\n",
        "input_shape = (32, 32, 3)\n",
        "num_classes = 100\n",
        "\n",
        "model521 = model521(input_shape, num_classes)\n",
        "#model5.summary()\n",
        "\n",
        "top_5_acc = TopKCategoricalAccuracy(k=5)\n",
        "model521.compile(optimizer='adam',\n",
        "              loss='categorical_crossentropy',\n",
        "              metrics=['accuracy', top_5_acc])\n",
        "\n",
        "history = model521.fit(\n",
        "    x_train_split, y_train_split,\n",
        "    validation_data=(x_val, y_val),\n",
        "    epochs=10,\n",
        "    batch_size=32)\n",
        "\n",
        "# # Your code here\n",
        "# test_loss, test_accuracy, top_5_acc_test = model51.evaluate(x_test_norm, y_test_one_hot)\n",
        "# print(f\"Test Accuracy: {test_accuracy * 100:.2f}%\")\n",
        "# print(f\"Test Loss: {test_loss}\")\n",
        "# print(f\"Top-5 Test Accuracy: {top_5_acc_test * 100:.2f}%\")"
      ]
    },
    {
      "cell_type": "code",
      "source": [
        "test_loss, test_accuracy, top_5_acc_test = model521.evaluate(x_test_norm, y_test_one_hot)\n",
        "print(f\"Test Accuracy: {test_accuracy * 100:.2f}%\")\n",
        "print(f\"Test Loss: {test_loss}\")\n",
        "print(f\"Top-5 Test Accuracy: {top_5_acc_test * 100:.2f}%\")"
      ],
      "metadata": {
        "colab": {
          "base_uri": "https://localhost:8080/"
        },
        "id": "kCjfs27lyswX",
        "outputId": "af876000-1564-44a2-b19c-67d79a90074f"
      },
      "id": "kCjfs27lyswX",
      "execution_count": 42,
      "outputs": [
        {
          "output_type": "stream",
          "name": "stdout",
          "text": [
            "\u001b[1m313/313\u001b[0m \u001b[32m━━━━━━━━━━━━━━━━━━━━\u001b[0m\u001b[37m\u001b[0m \u001b[1m13s\u001b[0m 42ms/step - accuracy: 0.4044 - loss: 2.4176 - top_k_categorical_accuracy: 0.6998\n",
            "Test Accuracy: 39.74%\n",
            "Test Loss: 2.406724691390991\n",
            "Top-5 Test Accuracy: 70.22%\n"
          ]
        }
      ]
    },
    {
      "cell_type": "code",
      "source": [
        "plt.plot(history.history['accuracy'], label='Training Accuracy')\n",
        "plt.plot(history.history['val_accuracy'], label='Validation Accuracy')\n",
        "plt.xlabel('Epochs')\n",
        "plt.ylabel('Accuracy')\n",
        "plt.legend()\n",
        "plt.show()"
      ],
      "metadata": {
        "colab": {
          "base_uri": "https://localhost:8080/",
          "height": 454
        },
        "id": "THHDrp89z9gC",
        "outputId": "436cba46-4c00-4799-ab25-f3a970116e4f"
      },
      "id": "THHDrp89z9gC",
      "execution_count": 45,
      "outputs": [
        {
          "output_type": "display_data",
          "data": {
            "text/plain": [
              "<Figure size 640x480 with 1 Axes>"
            ],
            "image/png": "[encoded data removed]"
          },
          "metadata": {}
        }
      ]
    },
    {
      "cell_type": "code",
      "source": [
        "predictions = model521.predict(x_test_norm)  # Predict probabilities on normalized test data\n",
        "predicted_classes = np.argmax(predictions, axis=1)  # Get predicted class indices\n",
        "\n",
        "true_classes = np.argmax(y_test_one_hot, axis=1)  # True class indices\n",
        "correct_indices = np.where(predicted_classes == true_classes)[0]\n",
        "incorrect_indices = np.where(predicted_classes != true_classes)[0]\n",
        "\n",
        "correct_image_idx = correct_indices[0]  # First correctly classified image\n",
        "incorrect_image_idx = incorrect_indices[0]  # First incorrectly classified image\n",
        "\n",
        "\n",
        "def plot_image_with_probs(image_idx, x_test, true_classes, predictions, label_names):\n",
        "    # Get the original image, true label, and predicted probabilities\n",
        "    image = x_test[image_idx]\n",
        "    true_label_idx = true_classes[image_idx]\n",
        "    pred_probs = predictions[image_idx]\n",
        "    pred_label_idx = np.argmax(pred_probs)\n",
        "\n",
        "    # Map indices to label names\n",
        "    true_label_name = label_names[true_label_idx]\n",
        "    pred_label_name = label_names[pred_label_idx]\n",
        "\n",
        "    # Plot the original image\n",
        "    plt.imshow(image.astype('uint8'))  # Convert to uint8 to display properly\n",
        "    plt.axis('off')\n",
        "    plt.title(f\"True: {true_label_name}, Predicted: {pred_label_name}\")\n",
        "    plt.show()\n",
        "\n",
        "    # Display predicted probabilities with label names\n",
        "    sorted_indices = np.argsort(pred_probs)[::-1]  # Sort probabilities in descending order\n",
        "    for i in range(5):  # Top-5 predictions\n",
        "        class_idx = sorted_indices[i]\n",
        "        class_name = label_names[class_idx]\n",
        "        print(f\"{class_name} ({class_idx}): {pred_probs[class_idx]:.4f}\")\n",
        "    print(\"-\" * 30)\n",
        "\n",
        "# Plot and report for correct and incorrect classifications using the original dataset\n",
        "print(\"Correctly Classified Image:\")\n",
        "plot_image_with_probs(correct_image_idx, x_test, true_classes, predictions, label_names)\n",
        "\n",
        "print(\"Incorrectly Classified Image:\")\n",
        "plot_image_with_probs(incorrect_image_idx, x_test, true_classes, predictions, label_names)"
      ],
      "metadata": {
        "colab": {
          "base_uri": "https://localhost:8080/",
          "height": 1000
        },
        "id": "RNh3Njt80R-i",
        "outputId": "5e2462e6-0444-49cc-e769-03b5fc80b9fd"
      },
      "id": "RNh3Njt80R-i",
      "execution_count": 46,
      "outputs": [
        {
          "output_type": "stream",
          "name": "stdout",
          "text": [
            "\u001b[1m313/313\u001b[0m \u001b[32m━━━━━━━━━━━━━━━━━━━━\u001b[0m\u001b[37m\u001b[0m \u001b[1m12s\u001b[0m 38ms/step\n",
            "Correctly Classified Image:\n"
          ]
        },
        {
          "output_type": "display_data",
          "data": {
            "text/plain": [
              "<Figure size 640x480 with 1 Axes>"
            ],
            "image/png": "[encoded data removed]"
          },
          "metadata": {}
        },
        {
          "output_type": "stream",
          "name": "stdout",
          "text": [
            "forest (33): 0.6115\n",
            "squirrel (80): 0.0680\n",
            "leopard (42): 0.0421\n",
            "porcupine (63): 0.0330\n",
            "rabbit (65): 0.0292\n",
            "------------------------------\n",
            "Incorrectly Classified Image:\n"
          ]
        },
        {
          "output_type": "display_data",
          "data": {
            "text/plain": [
              "<Figure size 640x480 with 1 Axes>"
            ],
            "image/png": "[encoded data removed]"
          },
          "metadata": {}
        },
        {
          "output_type": "stream",
          "name": "stdout",
          "text": [
            "spider (79): 0.2802\n",
            "dolphin (30): 0.1173\n",
            "whale (95): 0.0660\n",
            "baby (2): 0.0481\n",
            "pine_tree (59): 0.0443\n",
            "------------------------------\n"
          ]
        }
      ]
    },
    {
      "cell_type": "markdown",
      "id": "eadfc848700215e8",
      "metadata": {
        "collapsed": false,
        "id": "eadfc848700215e8"
      },
      "source": [
        "### Task 4c: Discussion of the results\n",
        "\n",
        "- Briefly discuss the results.\n",
        "- Did the model's performance improve?\n",
        "- Why do you think this is?\n",
        "- Do you think there is room for further improvement? Why or why not?\n",
        "- What other techniques might you try in the future?\n",
        "- Your answer should be no more than 200 words.\n",
        "\n",
        "# Your answer here"
      ]
    },
    {
      "cell_type": "code",
      "source": [
        "# The 0.3 dropout after the 256 dense layer slightly improved the accuracy, delayed overfitting, and increased probability of the predicted class in the example prediction.\n",
        "# More detaild feature extraction (removal of strides in the 2nd conv layer) resulted in higher accuracy\n",
        "\n",
        "# The model improved with the dropout after the 256 dense layer because the layer was indeed contributing to overfitting.\n",
        "# At the same time, the resolution of features may still be insufficient.\n",
        "\n",
        "# The latest model is less overfitted, so there could be a room for some improvement.\n",
        "# Other layers (conv) might also be contributing to overfitting.\n",
        "# The resolution of features can probably be improved with additional layers.\n",
        "\n",
        "# Other techniques to improve the model could be adding another dense layer, batch normalization after the dense layer and before the dropout,\n",
        "# adding additional drpouts (0.1-0.2) after convolutional layers, choosing a different optimizer, L2 regularization to penalize large weights."
      ],
      "metadata": {
        "id": "MY9UBQF9DB-N"
      },
      "id": "MY9UBQF9DB-N",
      "execution_count": null,
      "outputs": []
    },
    {
      "cell_type": "markdown",
      "id": "7415f68f",
      "metadata": {
        "id": "7415f68f"
      },
      "source": [
        "## Criteria\n",
        "\n",
        "|Criteria|Complete|Incomplete|\n",
        "|----|----|----|\n",
        "|Task 1|The task has been completed successfully and there are no errors.|The task is still incomplete and there is at least one error.|\n",
        "|Task 2|The task has been completed successfully and there are no errors.|The task is still incomplete and there is at least one error.|\n",
        "|Task 3|The task has been completed successfully and there are no errors.|The task is still incomplete and there is at least one error.|\n",
        "|Task 4|The task has been completed successfully and there are no errors.|The task is still incomplete and there is at least one error.|"
      ]
    },
    {
      "cell_type": "markdown",
      "id": "ad0c10bc",
      "metadata": {
        "id": "ad0c10bc"
      },
      "source": [
        "## Submission Information\n",
        "\n",
        "🚨 **Please review our [Assignment Submission Guide](https://github.com/UofT-DSI/onboarding/blob/main/onboarding_documents/submissions.md)** 🚨 for detailed instructions on how to format, branch, and submit your work. Following these guidelines is crucial for your submissions to be evaluated correctly.\n",
        "\n",
        "### Submission Parameters:\n",
        "* Submission Due Date: `HH:MM AM/PM - DD/MM/YYYY`\n",
        "* The branch name for your repo should be: `assignment-1`\n",
        "* What to submit for this assignment:\n",
        "    * This Jupyter Notebook (assignment_1.ipynb) should be populated and should be the only change in your pull request.\n",
        "* What the pull request link should look like for this assignment: `https://github.com/<your_github_username>/deep_learning/pull/<pr_id>`\n",
        "    * Open a private window in your browser. Copy and paste the link to your pull request into the address bar. Make sure you can see your pull request properly. This helps the technical facilitator and learning support staff review your submission easily.\n",
        "\n",
        "Checklist:\n",
        "- [ ] Created a branch with the correct naming convention.\n",
        "- [ ] Ensured that the repository is public.\n",
        "- [ ] Reviewed the PR description guidelines and adhered to them.\n",
        "- [ ] Verify that the link is accessible in a private browser window.\n",
        "\n",
        "If you encounter any difficulties or have questions, please don't hesitate to reach out to our team via our Slack at `#cohort-3-help`. Our Technical Facilitators and Learning Support staff are here to help you navigate any challenges."
      ]
    }
  ],
  "metadata": {
    "kernelspec": {
      "display_name": "Python 3 (ipykernel)",
      "language": "python",
      "name": "python3"
    },
    "language_info": {
      "name": "python",
      "version": "3.9.19"
    },
    "colab": {
      "provenance": []
    }
  },
  "nbformat": 4,
  "nbformat_minor": 5
}